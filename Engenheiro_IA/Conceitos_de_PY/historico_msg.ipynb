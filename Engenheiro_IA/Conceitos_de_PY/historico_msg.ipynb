{
 "cells": [
  {
   "cell_type": "code",
   "execution_count": null,
   "id": "f8b01b83",
   "metadata": {},
   "outputs": [],
   "source": [
    "import os\n",
    "from google import genai\n",
    "from dotenv import load_dotenv\n",
    "\n",
    "# Carrega chave do .env\n",
    "load_dotenv()\n",
    "api_key = os.getenv(\"GEMINI_API_KEY\")\n",
    "\n",
    "# Cria o cliente\n",
    "client = genai.Client(api_key=api_key)\n",
    "\n",
    "# Escolhe o modelo\n",
    "chat = client.chats.create(model=\"gemini-2.5-flash\")"
   ]
  },
  {
   "cell_type": "code",
   "execution_count": null,
   "id": "20829ba6",
   "metadata": {},
   "outputs": [],
   "source": [
    "# Faz uma pergunta\n",
    "resposta = chat.send_message(\"Quanto é 2 + 5 * 3\")\n",
    "print(resposta.text)"
   ]
  },
  {
   "cell_type": "code",
   "execution_count": null,
   "id": "33386d2c",
   "metadata": {},
   "outputs": [],
   "source": [
    "# Faz uma pergunta\n",
    "resposta = chat.send_message(\"Quanto foi lançado o chatgpt\")\n",
    "print(resposta.text)"
   ]
  },
  {
   "cell_type": "code",
   "execution_count": null,
   "id": "bf93f6c3",
   "metadata": {},
   "outputs": [],
   "source": [
    "chat.get_history()"
   ]
  }
 ],
 "metadata": {
  "kernelspec": {
   "display_name": "Python 3",
   "language": "python",
   "name": "python3"
  },
  "language_info": {
   "codemirror_mode": {
    "name": "ipython",
    "version": 3
   },
   "file_extension": ".py",
   "mimetype": "text/x-python",
   "name": "python",
   "nbconvert_exporter": "python",
   "pygments_lexer": "ipython3",
   "version": "3.12.11"
  }
 },
 "nbformat": 4,
 "nbformat_minor": 5
}
