{
 "cells": [
  {
   "cell_type": "code",
   "execution_count": 1,
   "id": "f8b01b83",
   "metadata": {},
   "outputs": [],
   "source": [
    "import os\n",
    "from google import genai\n",
    "from dotenv import load_dotenv\n",
    "\n",
    "# Carrega chave do .env\n",
    "load_dotenv()\n",
    "api_key = os.getenv(\"GEMINI_API_KEY\")\n",
    "\n",
    "# Cria o cliente\n",
    "client = genai.Client(api_key=api_key)\n",
    "\n",
    "# Escolhe o modelo\n",
    "chat = client.chats.create(model=\"gemini-2.5-flash\")"
   ]
  },
  {
   "cell_type": "code",
   "execution_count": 2,
   "id": "20829ba6",
   "metadata": {},
   "outputs": [
    {
     "name": "stdout",
     "output_type": "stream",
     "text": [
      "Para resolver a expressão `2 + 5 * 3`, seguimos a ordem das operações (PEMDAS/BODMAS), onde a multiplicação é feita antes da adição:\n",
      "\n",
      "1.  **Multiplicação:** `5 * 3 = 15`\n",
      "2.  **Adição:** `2 + 15 = 17`\n",
      "\n",
      "Então, `2 + 5 * 3 = 17`.\n"
     ]
    }
   ],
   "source": [
    "# Faz uma pergunta\n",
    "resposta = chat.send_message(\"Quanto é 2 + 5 * 3\")\n",
    "print(resposta.text)"
   ]
  },
  {
   "cell_type": "code",
   "execution_count": 3,
   "id": "33386d2c",
   "metadata": {},
   "outputs": [
    {
     "name": "stdout",
     "output_type": "stream",
     "text": [
      "O ChatGPT foi lançado pela OpenAI em **30 de novembro de 2022**.\n"
     ]
    }
   ],
   "source": [
    "# Faz uma pergunta\n",
    "resposta = chat.send_message(\"Quanto foi lançado o chatgpt\")\n",
    "print(resposta.text)"
   ]
  },
  {
   "cell_type": "code",
   "execution_count": 4,
   "id": "bf93f6c3",
   "metadata": {},
   "outputs": [
    {
     "data": {
      "text/plain": [
       "[UserContent(\n",
       "   parts=[\n",
       "     Part(\n",
       "       text='Quanto é 2 + 5 * 3'\n",
       "     ),\n",
       "   ],\n",
       "   role='user'\n",
       " ),\n",
       " Content(\n",
       "   parts=[\n",
       "     Part(\n",
       "       text=\"\"\"Para resolver a expressão `2 + 5 * 3`, seguimos a ordem das operações (PEMDAS/BODMAS), onde a multiplicação é feita antes da adição:\n",
       " \n",
       " 1.  **Multiplicação:** `5 * 3 = 15`\n",
       " 2.  **Adição:** `2 + 15 = 17`\n",
       " \n",
       " Então, `2 + 5 * 3 = 17`.\"\"\"\n",
       "     ),\n",
       "   ],\n",
       "   role='model'\n",
       " ),\n",
       " UserContent(\n",
       "   parts=[\n",
       "     Part(\n",
       "       text='Quanto foi lançado o chatgpt'\n",
       "     ),\n",
       "   ],\n",
       "   role='user'\n",
       " ),\n",
       " Content(\n",
       "   parts=[\n",
       "     Part(\n",
       "       text='O ChatGPT foi lançado pela OpenAI em **30 de novembro de 2022**.'\n",
       "     ),\n",
       "   ],\n",
       "   role='model'\n",
       " )]"
      ]
     },
     "execution_count": 4,
     "metadata": {},
     "output_type": "execute_result"
    }
   ],
   "source": [
    "chat.get_history()"
   ]
  }
 ],
 "metadata": {
  "kernelspec": {
   "display_name": "Python 3",
   "language": "python",
   "name": "python3"
  },
  "language_info": {
   "codemirror_mode": {
    "name": "ipython",
    "version": 3
   },
   "file_extension": ".py",
   "mimetype": "text/x-python",
   "name": "python",
   "nbconvert_exporter": "python",
   "pygments_lexer": "ipython3",
   "version": "3.12.11"
  }
 },
 "nbformat": 4,
 "nbformat_minor": 5
}
